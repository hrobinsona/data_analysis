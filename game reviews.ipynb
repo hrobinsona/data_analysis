{
 "cells": [
  {
   "cell_type": "markdown",
   "metadata": {},
   "source": [
    "The aim of the below is to illustrate some simple uses of data analysis using Pandas. This includes some basic exploration as well as using scikit to cluster the data and create a basic linear regression model in an attempt to predict the average rating of a boardgame."
   ]
  },
  {
   "cell_type": "code",
   "execution_count": 1,
   "metadata": {
    "collapsed": false,
    "scrolled": false
   },
   "outputs": [
    {
     "name": "stdout",
     "output_type": "stream",
     "text": [
      "(81312, 20)\n"
     ]
    },
    {
     "data": {
      "text/html": [
       "<div>\n",
       "<table border=\"1\" class=\"dataframe\">\n",
       "  <thead>\n",
       "    <tr style=\"text-align: right;\">\n",
       "      <th></th>\n",
       "      <th>id</th>\n",
       "      <th>type</th>\n",
       "      <th>name</th>\n",
       "      <th>yearpublished</th>\n",
       "      <th>minplayers</th>\n",
       "      <th>maxplayers</th>\n",
       "      <th>playingtime</th>\n",
       "      <th>minplaytime</th>\n",
       "      <th>maxplaytime</th>\n",
       "      <th>minage</th>\n",
       "      <th>users_rated</th>\n",
       "      <th>average_rating</th>\n",
       "      <th>bayes_average_rating</th>\n",
       "      <th>total_owners</th>\n",
       "      <th>total_traders</th>\n",
       "      <th>total_wanters</th>\n",
       "      <th>total_wishers</th>\n",
       "      <th>total_comments</th>\n",
       "      <th>total_weights</th>\n",
       "      <th>average_weight</th>\n",
       "    </tr>\n",
       "  </thead>\n",
       "  <tbody>\n",
       "    <tr>\n",
       "      <th>0</th>\n",
       "      <td>12333</td>\n",
       "      <td>boardgame</td>\n",
       "      <td>Twilight Struggle</td>\n",
       "      <td>2005</td>\n",
       "      <td>2</td>\n",
       "      <td>2</td>\n",
       "      <td>180</td>\n",
       "      <td>180</td>\n",
       "      <td>180</td>\n",
       "      <td>13</td>\n",
       "      <td>20113</td>\n",
       "      <td>8.33774</td>\n",
       "      <td>8.22186</td>\n",
       "      <td>26647</td>\n",
       "      <td>372</td>\n",
       "      <td>1219</td>\n",
       "      <td>5865</td>\n",
       "      <td>5347</td>\n",
       "      <td>2562</td>\n",
       "      <td>3.4785</td>\n",
       "    </tr>\n",
       "    <tr>\n",
       "      <th>1</th>\n",
       "      <td>120677</td>\n",
       "      <td>boardgame</td>\n",
       "      <td>Terra Mystica</td>\n",
       "      <td>2012</td>\n",
       "      <td>2</td>\n",
       "      <td>5</td>\n",
       "      <td>150</td>\n",
       "      <td>60</td>\n",
       "      <td>150</td>\n",
       "      <td>12</td>\n",
       "      <td>14383</td>\n",
       "      <td>8.28798</td>\n",
       "      <td>8.14232</td>\n",
       "      <td>16519</td>\n",
       "      <td>132</td>\n",
       "      <td>1586</td>\n",
       "      <td>6277</td>\n",
       "      <td>2526</td>\n",
       "      <td>1423</td>\n",
       "      <td>3.8939</td>\n",
       "    </tr>\n",
       "    <tr>\n",
       "      <th>2</th>\n",
       "      <td>102794</td>\n",
       "      <td>boardgame</td>\n",
       "      <td>Caverna: The Cave Farmers</td>\n",
       "      <td>2013</td>\n",
       "      <td>1</td>\n",
       "      <td>7</td>\n",
       "      <td>210</td>\n",
       "      <td>30</td>\n",
       "      <td>210</td>\n",
       "      <td>12</td>\n",
       "      <td>9262</td>\n",
       "      <td>8.28994</td>\n",
       "      <td>8.06886</td>\n",
       "      <td>12230</td>\n",
       "      <td>99</td>\n",
       "      <td>1476</td>\n",
       "      <td>5600</td>\n",
       "      <td>1700</td>\n",
       "      <td>777</td>\n",
       "      <td>3.7761</td>\n",
       "    </tr>\n",
       "    <tr>\n",
       "      <th>3</th>\n",
       "      <td>25613</td>\n",
       "      <td>boardgame</td>\n",
       "      <td>Through the Ages: A Story of Civilization</td>\n",
       "      <td>2006</td>\n",
       "      <td>2</td>\n",
       "      <td>4</td>\n",
       "      <td>240</td>\n",
       "      <td>240</td>\n",
       "      <td>240</td>\n",
       "      <td>12</td>\n",
       "      <td>13294</td>\n",
       "      <td>8.20407</td>\n",
       "      <td>8.05804</td>\n",
       "      <td>14343</td>\n",
       "      <td>362</td>\n",
       "      <td>1084</td>\n",
       "      <td>5075</td>\n",
       "      <td>3378</td>\n",
       "      <td>1642</td>\n",
       "      <td>4.1590</td>\n",
       "    </tr>\n",
       "    <tr>\n",
       "      <th>4</th>\n",
       "      <td>3076</td>\n",
       "      <td>boardgame</td>\n",
       "      <td>Puerto Rico</td>\n",
       "      <td>2002</td>\n",
       "      <td>2</td>\n",
       "      <td>5</td>\n",
       "      <td>150</td>\n",
       "      <td>90</td>\n",
       "      <td>150</td>\n",
       "      <td>12</td>\n",
       "      <td>39883</td>\n",
       "      <td>8.14261</td>\n",
       "      <td>8.04524</td>\n",
       "      <td>44362</td>\n",
       "      <td>795</td>\n",
       "      <td>861</td>\n",
       "      <td>5414</td>\n",
       "      <td>9173</td>\n",
       "      <td>5213</td>\n",
       "      <td>3.2943</td>\n",
       "    </tr>\n",
       "  </tbody>\n",
       "</table>\n",
       "</div>"
      ],
      "text/plain": [
       "       id       type                                       name  \\\n",
       "0   12333  boardgame                          Twilight Struggle   \n",
       "1  120677  boardgame                              Terra Mystica   \n",
       "2  102794  boardgame                  Caverna: The Cave Farmers   \n",
       "3   25613  boardgame  Through the Ages: A Story of Civilization   \n",
       "4    3076  boardgame                                Puerto Rico   \n",
       "\n",
       "   yearpublished  minplayers  maxplayers  playingtime  minplaytime  \\\n",
       "0           2005           2           2          180          180   \n",
       "1           2012           2           5          150           60   \n",
       "2           2013           1           7          210           30   \n",
       "3           2006           2           4          240          240   \n",
       "4           2002           2           5          150           90   \n",
       "\n",
       "   maxplaytime  minage  users_rated  average_rating  bayes_average_rating  \\\n",
       "0          180      13        20113         8.33774               8.22186   \n",
       "1          150      12        14383         8.28798               8.14232   \n",
       "2          210      12         9262         8.28994               8.06886   \n",
       "3          240      12        13294         8.20407               8.05804   \n",
       "4          150      12        39883         8.14261               8.04524   \n",
       "\n",
       "   total_owners  total_traders  total_wanters  total_wishers  total_comments  \\\n",
       "0         26647            372           1219           5865            5347   \n",
       "1         16519            132           1586           6277            2526   \n",
       "2         12230             99           1476           5600            1700   \n",
       "3         14343            362           1084           5075            3378   \n",
       "4         44362            795            861           5414            9173   \n",
       "\n",
       "   total_weights  average_weight  \n",
       "0           2562          3.4785  \n",
       "1           1423          3.8939  \n",
       "2            777          3.7761  \n",
       "3           1642          4.1590  \n",
       "4           5213          3.2943  "
      ]
     },
     "execution_count": 1,
     "metadata": {},
     "output_type": "execute_result"
    }
   ],
   "source": [
    "%matplotlib inline\n",
    "import pandas as pd\n",
    "import matplotlib.pyplot as plt\n",
    "\n",
    "games = pd.read_csv('/Users/harryrobinson/Desktop/for coding/games.csv')\n",
    "\n",
    "# print out (rows,columns) and the first 5 rows of the data set\n",
    "print(games.shape)\n",
    "games.head(5)"
   ]
  },
  {
   "cell_type": "code",
   "execution_count": 2,
   "metadata": {
    "collapsed": false
   },
   "outputs": [
    {
     "name": "stdout",
     "output_type": "stream",
     "text": [
      "<class 'pandas.core.frame.DataFrame'>\n",
      "Int64Index: 81312 entries, 0 to 81311\n",
      "Data columns (total 20 columns):\n",
      "id                      81312 non-null int64\n",
      "type                    81312 non-null object\n",
      "name                    81271 non-null object\n",
      "yearpublished           81309 non-null float64\n",
      "minplayers              81309 non-null float64\n",
      "maxplayers              81309 non-null float64\n",
      "playingtime             81309 non-null float64\n",
      "minplaytime             81309 non-null float64\n",
      "maxplaytime             81309 non-null float64\n",
      "minage                  81309 non-null float64\n",
      "users_rated             81312 non-null int64\n",
      "average_rating          81312 non-null float64\n",
      "bayes_average_rating    81312 non-null float64\n",
      "total_owners            81312 non-null int64\n",
      "total_traders           81312 non-null int64\n",
      "total_wanters           81312 non-null int64\n",
      "total_wishers           81312 non-null int64\n",
      "total_comments          81312 non-null int64\n",
      "total_weights           81312 non-null int64\n",
      "average_weight          81312 non-null float64\n",
      "dtypes: float64(10), int64(8), object(2)\n",
      "memory usage: 13.0+ MB\n"
     ]
    }
   ],
   "source": [
    "# show how pandas has stored each column of the data i.e. string, int, float etc\n",
    "games.info()"
   ]
  },
  {
   "cell_type": "markdown",
   "metadata": {},
   "source": [
    "As can be seen above, not all columns have the same number of rows. As such, this must mean there are some columns with missing data. \n",
    "\n",
    "I'm going to change the 'users_rated' value to NaN if both columns 'average_rating' and 'users_rated' equal zero. This is because I wish to show the use of the library 'missingno'(and since there aren't many NaN values to start with it wouldn't show much). \n",
    "\n",
    "I'll then drop these values along with the original NaN values. Firstly, the rows with 0 users rated will result in skewing the linear regression model later on since it will effectively act like noise."
   ]
  },
  {
   "cell_type": "code",
   "execution_count": 3,
   "metadata": {
    "collapsed": true
   },
   "outputs": [],
   "source": [
    "# change 'users_rated' to NaN if both 'users_rated' and 'average_rating' = 0, as noted above\n",
    "import numpy as np\n",
    "games.ix[(games['users_rated'] == 0) & (games['average_rating'] == 0), 'users_rated'] = np.nan"
   ]
  },
  {
   "cell_type": "code",
   "execution_count": 4,
   "metadata": {
    "collapsed": false
   },
   "outputs": [
    {
     "data": {
      "image/png": "[encoded data removed]",
      "text/plain": [
       "<matplotlib.figure.Figure at 0x103db8dd8>"
      ]
     },
     "metadata": {},
     "output_type": "display_data"
    }
   ],
   "source": [
    "# import missingno, a library to visualise missing data or any patterns in data completion\n",
    "import missingno as msno\n",
    "%matplotlib inline\n",
    "msno.matrix(games)"
   ]
  },
  {
   "cell_type": "markdown",
   "metadata": {},
   "source": [
    "As can be seen above - the x axis displays the various columns in the data set and the y axis displays all the rows (in a compressed way). The grey and white indictates the degree of the missing values and the 'sparkline' on the right summarizes the general shape of the data completeness. As can be seen, it points out '12' as an indicator and shows a sharp bar corresponding to the 11th column - this is no surpise since column 11 is 'users_rated' and I changed just over 24000 values to NaN in this column."
   ]
  },
  {
   "cell_type": "code",
   "execution_count": 5,
   "metadata": {
    "collapsed": false
   },
   "outputs": [
    {
     "name": "stdout",
     "output_type": "stream",
     "text": [
      "(56894, 20)\n"
     ]
    }
   ],
   "source": [
    "# drop all rows with NaN values then display the shape of the cut down dataframe\n",
    "games = games.dropna()\n",
    "print(games.shape)"
   ]
  },
  {
   "cell_type": "code",
   "execution_count": 6,
   "metadata": {
    "collapsed": false
   },
   "outputs": [
    {
     "data": {
      "text/html": [
       "<div>\n",
       "<table border=\"1\" class=\"dataframe\">\n",
       "  <thead>\n",
       "    <tr style=\"text-align: right;\">\n",
       "      <th></th>\n",
       "      <th>id</th>\n",
       "      <th>yearpublished</th>\n",
       "      <th>minplayers</th>\n",
       "      <th>maxplayers</th>\n",
       "      <th>playingtime</th>\n",
       "      <th>minplaytime</th>\n",
       "      <th>maxplaytime</th>\n",
       "      <th>minage</th>\n",
       "      <th>users_rated</th>\n",
       "      <th>average_rating</th>\n",
       "      <th>bayes_average_rating</th>\n",
       "      <th>total_owners</th>\n",
       "      <th>total_traders</th>\n",
       "      <th>total_wanters</th>\n",
       "      <th>total_wishers</th>\n",
       "      <th>total_comments</th>\n",
       "      <th>total_weights</th>\n",
       "      <th>average_weight</th>\n",
       "    </tr>\n",
       "  </thead>\n",
       "  <tbody>\n",
       "    <tr>\n",
       "      <th>count</th>\n",
       "      <td>56894.000000</td>\n",
       "      <td>56894.000000</td>\n",
       "      <td>56894.000000</td>\n",
       "      <td>56894.000000</td>\n",
       "      <td>56894.000000</td>\n",
       "      <td>56894.000000</td>\n",
       "      <td>56894.000000</td>\n",
       "      <td>56894.000000</td>\n",
       "      <td>56894.000000</td>\n",
       "      <td>56894.000000</td>\n",
       "      <td>56894.000000</td>\n",
       "      <td>56894.000000</td>\n",
       "      <td>56894.000000</td>\n",
       "      <td>56894.000000</td>\n",
       "      <td>56894.000000</td>\n",
       "      <td>56894.000000</td>\n",
       "      <td>56894.000000</td>\n",
       "      <td>56894.000000</td>\n",
       "    </tr>\n",
       "    <tr>\n",
       "      <th>mean</th>\n",
       "      <td>64092.223943</td>\n",
       "      <td>1874.793089</td>\n",
       "      <td>2.004834</td>\n",
       "      <td>5.572837</td>\n",
       "      <td>59.921503</td>\n",
       "      <td>57.457184</td>\n",
       "      <td>59.921503</td>\n",
       "      <td>7.591556</td>\n",
       "      <td>231.360477</td>\n",
       "      <td>6.016113</td>\n",
       "      <td>1.654372</td>\n",
       "      <td>374.507470</td>\n",
       "      <td>13.166432</td>\n",
       "      <td>18.002689</td>\n",
       "      <td>60.579024</td>\n",
       "      <td>70.344219</td>\n",
       "      <td>23.548722</td>\n",
       "      <td>1.269716</td>\n",
       "    </tr>\n",
       "    <tr>\n",
       "      <th>std</th>\n",
       "      <td>57513.253779</td>\n",
       "      <td>486.032042</td>\n",
       "      <td>0.791475</td>\n",
       "      <td>50.773395</td>\n",
       "      <td>406.451917</td>\n",
       "      <td>393.197450</td>\n",
       "      <td>406.451917</td>\n",
       "      <td>4.869533</td>\n",
       "      <td>1364.124459</td>\n",
       "      <td>1.578830</td>\n",
       "      <td>2.646445</td>\n",
       "      <td>1787.003768</td>\n",
       "      <td>46.984706</td>\n",
       "      <td>71.984315</td>\n",
       "      <td>284.161400</td>\n",
       "      <td>338.375579</td>\n",
       "      <td>138.053005</td>\n",
       "      <td>1.213841</td>\n",
       "    </tr>\n",
       "    <tr>\n",
       "      <th>min</th>\n",
       "      <td>1.000000</td>\n",
       "      <td>-3500.000000</td>\n",
       "      <td>0.000000</td>\n",
       "      <td>0.000000</td>\n",
       "      <td>0.000000</td>\n",
       "      <td>0.000000</td>\n",
       "      <td>0.000000</td>\n",
       "      <td>0.000000</td>\n",
       "      <td>1.000000</td>\n",
       "      <td>1.000000</td>\n",
       "      <td>0.000000</td>\n",
       "      <td>0.000000</td>\n",
       "      <td>0.000000</td>\n",
       "      <td>0.000000</td>\n",
       "      <td>0.000000</td>\n",
       "      <td>0.000000</td>\n",
       "      <td>0.000000</td>\n",
       "      <td>0.000000</td>\n",
       "    </tr>\n",
       "    <tr>\n",
       "      <th>25%</th>\n",
       "      <td>16133.250000</td>\n",
       "      <td>1989.000000</td>\n",
       "      <td>2.000000</td>\n",
       "      <td>2.000000</td>\n",
       "      <td>15.000000</td>\n",
       "      <td>15.000000</td>\n",
       "      <td>15.000000</td>\n",
       "      <td>4.000000</td>\n",
       "      <td>2.000000</td>\n",
       "      <td>5.000000</td>\n",
       "      <td>0.000000</td>\n",
       "      <td>5.000000</td>\n",
       "      <td>0.000000</td>\n",
       "      <td>0.000000</td>\n",
       "      <td>0.000000</td>\n",
       "      <td>1.000000</td>\n",
       "      <td>0.000000</td>\n",
       "      <td>0.000000</td>\n",
       "    </tr>\n",
       "    <tr>\n",
       "      <th>50%</th>\n",
       "      <td>36921.000000</td>\n",
       "      <td>2005.000000</td>\n",
       "      <td>2.000000</td>\n",
       "      <td>4.000000</td>\n",
       "      <td>30.000000</td>\n",
       "      <td>30.000000</td>\n",
       "      <td>30.000000</td>\n",
       "      <td>8.000000</td>\n",
       "      <td>7.000000</td>\n",
       "      <td>6.150000</td>\n",
       "      <td>0.000000</td>\n",
       "      <td>20.000000</td>\n",
       "      <td>1.000000</td>\n",
       "      <td>1.000000</td>\n",
       "      <td>3.000000</td>\n",
       "      <td>4.000000</td>\n",
       "      <td>1.000000</td>\n",
       "      <td>1.000000</td>\n",
       "    </tr>\n",
       "    <tr>\n",
       "      <th>75%</th>\n",
       "      <td>118558.750000</td>\n",
       "      <td>2011.000000</td>\n",
       "      <td>2.000000</td>\n",
       "      <td>6.000000</td>\n",
       "      <td>60.000000</td>\n",
       "      <td>60.000000</td>\n",
       "      <td>60.000000</td>\n",
       "      <td>12.000000</td>\n",
       "      <td>39.000000</td>\n",
       "      <td>7.040000</td>\n",
       "      <td>5.488240</td>\n",
       "      <td>125.000000</td>\n",
       "      <td>6.000000</td>\n",
       "      <td>6.000000</td>\n",
       "      <td>15.000000</td>\n",
       "      <td>19.000000</td>\n",
       "      <td>5.000000</td>\n",
       "      <td>2.000000</td>\n",
       "    </tr>\n",
       "    <tr>\n",
       "      <th>max</th>\n",
       "      <td>184260.000000</td>\n",
       "      <td>2017.000000</td>\n",
       "      <td>40.000000</td>\n",
       "      <td>11299.000000</td>\n",
       "      <td>60120.000000</td>\n",
       "      <td>60120.000000</td>\n",
       "      <td>60120.000000</td>\n",
       "      <td>120.000000</td>\n",
       "      <td>53680.000000</td>\n",
       "      <td>10.000000</td>\n",
       "      <td>8.221860</td>\n",
       "      <td>73188.000000</td>\n",
       "      <td>1395.000000</td>\n",
       "      <td>1586.000000</td>\n",
       "      <td>6402.000000</td>\n",
       "      <td>11798.000000</td>\n",
       "      <td>5996.000000</td>\n",
       "      <td>5.000000</td>\n",
       "    </tr>\n",
       "  </tbody>\n",
       "</table>\n",
       "</div>"
      ],
      "text/plain": [
       "                  id  yearpublished    minplayers    maxplayers   playingtime  \\\n",
       "count   56894.000000   56894.000000  56894.000000  56894.000000  56894.000000   \n",
       "mean    64092.223943    1874.793089      2.004834      5.572837     59.921503   \n",
       "std     57513.253779     486.032042      0.791475     50.773395    406.451917   \n",
       "min         1.000000   -3500.000000      0.000000      0.000000      0.000000   \n",
       "25%     16133.250000    1989.000000      2.000000      2.000000     15.000000   \n",
       "50%     36921.000000    2005.000000      2.000000      4.000000     30.000000   \n",
       "75%    118558.750000    2011.000000      2.000000      6.000000     60.000000   \n",
       "max    184260.000000    2017.000000     40.000000  11299.000000  60120.000000   \n",
       "\n",
       "        minplaytime   maxplaytime        minage   users_rated  average_rating  \\\n",
       "count  56894.000000  56894.000000  56894.000000  56894.000000    56894.000000   \n",
       "mean      57.457184     59.921503      7.591556    231.360477        6.016113   \n",
       "std      393.197450    406.451917      4.869533   1364.124459        1.578830   \n",
       "min        0.000000      0.000000      0.000000      1.000000        1.000000   \n",
       "25%       15.000000     15.000000      4.000000      2.000000        5.000000   \n",
       "50%       30.000000     30.000000      8.000000      7.000000        6.150000   \n",
       "75%       60.000000     60.000000     12.000000     39.000000        7.040000   \n",
       "max    60120.000000  60120.000000    120.000000  53680.000000       10.000000   \n",
       "\n",
       "       bayes_average_rating  total_owners  total_traders  total_wanters  \\\n",
       "count          56894.000000  56894.000000   56894.000000   56894.000000   \n",
       "mean               1.654372    374.507470      13.166432      18.002689   \n",
       "std                2.646445   1787.003768      46.984706      71.984315   \n",
       "min                0.000000      0.000000       0.000000       0.000000   \n",
       "25%                0.000000      5.000000       0.000000       0.000000   \n",
       "50%                0.000000     20.000000       1.000000       1.000000   \n",
       "75%                5.488240    125.000000       6.000000       6.000000   \n",
       "max                8.221860  73188.000000    1395.000000    1586.000000   \n",
       "\n",
       "       total_wishers  total_comments  total_weights  average_weight  \n",
       "count   56894.000000    56894.000000   56894.000000    56894.000000  \n",
       "mean       60.579024       70.344219      23.548722        1.269716  \n",
       "std       284.161400      338.375579     138.053005        1.213841  \n",
       "min         0.000000        0.000000       0.000000        0.000000  \n",
       "25%         0.000000        1.000000       0.000000        0.000000  \n",
       "50%         3.000000        4.000000       1.000000        1.000000  \n",
       "75%        15.000000       19.000000       5.000000        2.000000  \n",
       "max      6402.000000    11798.000000    5996.000000        5.000000  "
      ]
     },
     "execution_count": 6,
     "metadata": {},
     "output_type": "execute_result"
    }
   ],
   "source": [
    "# use pandas describe method to provide some quick info\n",
    "games.describe()"
   ]
  },
  {
   "cell_type": "markdown",
   "metadata": {},
   "source": [
    "Above I've used pandas describe method to calcuate some basic statistics such as the mean value, standard deviation and min/max values of the columns in the data set. This gives one a feel for the data distribution and provides some useful information."
   ]
  },
  {
   "cell_type": "code",
   "execution_count": 7,
   "metadata": {
    "collapsed": false,
    "scrolled": true
   },
   "outputs": [
    {
     "data": {
      "text/plain": [
       "<matplotlib.text.Text at 0x113d707f0>"
      ]
     },
     "execution_count": 7,
     "metadata": {},
     "output_type": "execute_result"
    },
    {
     "data": {
      "image/png": "[encoded data removed]",
      "text/plain": [
       "<matplotlib.figure.Figure at 0x113c11208>"
      ]
     },
     "metadata": {},
     "output_type": "display_data"
    }
   ],
   "source": [
    "# Visualise the distribution of average ratings since this is what we'll be predicting later on\n",
    "# This could be done for each of the columns to visually see how the data is distributed\n",
    "ax = games['average_rating'].plot.hist(title='Distribution of average ratings', x ='average ratings')\n",
    "ax.set_xlabel('average ratings')"
   ]
  },
  {
   "cell_type": "markdown",
   "metadata": {},
   "source": [
    "The average ratings approximately follows a normal distribution with a slight negative skew. Since the data is contineous and essentially normally distributed I'll be using the RMSE as the error metric for the linear regression model - as such, I'll be giving more weight to points further away from the mean.\n",
    "\n",
    "However, before I attempt to use prediction I'll use K-means clustering attempt to see if there are obvious 'groups' in the boardgames. Although I won't build on this now, it may be interesting at a later date to see what factors cause games to cluster."
   ]
  },
  {
   "cell_type": "code",
   "execution_count": 8,
   "metadata": {
    "collapsed": false
   },
   "outputs": [
    {
     "name": "stdout",
     "output_type": "stream",
     "text": [
      "Index(['name', 'type'], dtype='object')\n"
     ]
    }
   ],
   "source": [
    "# Clustering the data to possibly group\n",
    "from sklearn.cluster import KMeans\n",
    "\n",
    "# initialise kmeans\n",
    "kmeans = KMeans(n_clusters = 5, random_state=1)\n",
    "\n",
    "# k means works only on numeric columns, hence select only numeric columns\n",
    "numeric_columns = games.select_dtypes(include=[np.number])\n",
    "numeric_columns = list(numeric_columns.columns)\n",
    "\n",
    "# take difference to see which columns were removed\n",
    "print(games.columns.difference(numeric_columns))\n",
    "\n",
    "# fit the clusters with the numeric data above and extract the labels\n",
    "kmeans.fit(games[numeric_columns])\n",
    "labels = kmeans.labels_"
   ]
  },
  {
   "cell_type": "code",
   "execution_count": 9,
   "metadata": {
    "collapsed": false,
    "scrolled": true
   },
   "outputs": [
    {
     "name": "stdout",
     "output_type": "stream",
     "text": [
      "[0 1 2 3 4] [ 9080 14739  6905  7863 18307]\n"
     ]
    }
   ],
   "source": [
    "#verify the number of clusters and how many data points belong to each cluster\n",
    "unique, counts = np.unique(labels, return_counts=True)\n",
    "print(unique,counts)"
   ]
  },
  {
   "cell_type": "markdown",
   "metadata": {},
   "source": [
    "Below I'm using sklearn and importing the Principal component analysis module. This essentially takes multiple columns and compresses them into two columns (in the case of 2d) while trying to preserve the unique information in each column. This provides a good way to plot n dimensional data on a 2d plot - since in practice anything above 3 dimensions is very hard to visualise. "
   ]
  },
  {
   "cell_type": "code",
   "execution_count": 36,
   "metadata": {
    "collapsed": false,
    "scrolled": true
   },
   "outputs": [
    {
     "data": {
      "image/png": "[encoded data removed]",
      "text/plain": [
       "<matplotlib.figure.Figure at 0x1167e9cf8>"
      ]
     },
     "metadata": {},
     "output_type": "display_data"
    }
   ],
   "source": [
    "from sklearn.decomposition import PCA\n",
    "import matplotlib\n",
    "\n",
    "# colours used for each cluster\n",
    "colors = [\"red\",\"green\",\"blue\",\"purple\",\"yellow\"]\n",
    "\n",
    "# Create a PCA model\n",
    "pca_2 = PCA(2)\n",
    "\n",
    "# Fit the PCA model on the numeric columns from earlier\n",
    "plot_columns = pca_2.fit_transform(games[numeric_columns])\n",
    "\n",
    "# Make a scatter plot of each game, shaded according to cluster assignment\n",
    "ax = plt.scatter(x=plot_columns[:,0], y=plot_columns[:,1], c=labels, cmap=matplotlib.colors.ListedColormap(colors))\n",
    "\n",
    "#define colourbar and the clusters each data point corresponds to\n",
    "plt.colorbar(ticks =[0,1,2,3,4])\n",
    "\n",
    "# Show the plot\n",
    "plt.show()"
   ]
  },
  {
   "cell_type": "markdown",
   "metadata": {},
   "source": [
    "As can be seen above, there are 5 distinct groups within the games. Further analysis can be carried out later as to why specific games belong to a given cluster. This technique is also very useful for 'divide and conquer'. An unsupervised learning algorithm search as K-means can be run to segement the data into groups then individual supervised learning methods can be applied to the specific groups, for example."
   ]
  },
  {
   "cell_type": "code",
   "execution_count": 11,
   "metadata": {
    "collapsed": false
   },
   "outputs": [
    {
     "data": {
      "text/plain": [
       "id                      0.304201\n",
       "yearpublished           0.108461\n",
       "minplayers             -0.032701\n",
       "maxplayers             -0.008335\n",
       "playingtime             0.048994\n",
       "minplaytime             0.043985\n",
       "maxplaytime             0.048994\n",
       "minage                  0.210049\n",
       "users_rated             0.112564\n",
       "average_rating          1.000000\n",
       "bayes_average_rating    0.231563\n",
       "total_owners            0.137478\n",
       "total_traders           0.119452\n",
       "total_wanters           0.196566\n",
       "total_wishers           0.171375\n",
       "total_comments          0.123714\n",
       "total_weights           0.109691\n",
       "average_weight          0.351081\n",
       "Name: average_rating, dtype: float64"
      ]
     },
     "execution_count": 11,
     "metadata": {},
     "output_type": "execute_result"
    }
   ],
   "source": [
    "# Generate all correlations between each variable - this is a measure of the linear correlation between two variables.\n",
    "correlations = games[numeric_columns].corr()\n",
    "# Display only the correlations wrt 'average_rating'\n",
    "correlations[\"average_rating\"]"
   ]
  },
  {
   "cell_type": "markdown",
   "metadata": {},
   "source": [
    "As can be seen from the above, some of the columns have virtually no correlation with the 'average_rating'. Ordinarily one wouldn't select these columns as predictors since these columns will offer no benefit (predictive power) when training the algorithm. However, below I'll simply remove 'average_rating' and 'bayes_average_rating' since keeping these columns in the data will lead to overfitting'."
   ]
  },
  {
   "cell_type": "code",
   "execution_count": 19,
   "metadata": {
    "collapsed": false
   },
   "outputs": [
    {
     "name": "stdout",
     "output_type": "stream",
     "text": [
      "16\n"
     ]
    }
   ],
   "source": [
    "# remove the two columns that will cause overfitting and store in predictors\n",
    "predictors = [c for c in numeric_columns if c not in ['average_rating', 'bayes_average_rating']]\n",
    "\n",
    "# print the number of headers in predictors\n",
    "print(len(predictors))"
   ]
  },
  {
   "cell_type": "markdown",
   "metadata": {},
   "source": [
    "I'll now setup cross validation so I can see how well the model generalises to data the algorithm hasn't seen before.\n",
    "\n",
    "A training set - which we use to train the classifer.\n",
    "\n",
    "A test set - which we use to evaluate the classifier's effectiveness."
   ]
  },
  {
   "cell_type": "code",
   "execution_count": 14,
   "metadata": {
    "collapsed": false
   },
   "outputs": [
    {
     "name": "stdout",
     "output_type": "stream",
     "text": [
      "(45515, 18)\n",
      "(11379, 18)\n"
     ]
    }
   ],
   "source": [
    "# Set a random seed to make the shuffle deterministic.\n",
    "np.random.seed(1)\n",
    "\n",
    "# Randomly shuffle the rows in the dataframe\n",
    "games_for_regression = games[numeric_columns].loc[np.random.permutation(games[predictors].index)]\n",
    "\n",
    "# Select 80% of the dataset to be training data\n",
    "highest_train_row = int(games_for_regression.shape[0] * .8)\n",
    "train = games_for_regression.iloc[:highest_train_row,:]\n",
    "\n",
    "# Select 20% of the dataset to be test data\n",
    "test = games_for_regression.iloc[highest_train_row:,:]\n",
    "\n",
    "# Store the variable I'll be predicting\n",
    "target = 'average_rating'\n",
    "\n",
    "# Print the shapes of each set\n",
    "print(train.shape)\n",
    "print(test.shape)"
   ]
  },
  {
   "cell_type": "markdown",
   "metadata": {},
   "source": [
    "Below I first train the dataset with the training set containing 80% of the data. I then use this model with the test data set, the remaining 20% data that was not used in training the algorithm. Finally, I calculate the root mean squared error - this is the mean of the squared error between the predicted response and the actual response. It is then square rooted which 'squashes' the data and makes it the same unit as the response value. In summary, this provides the average error for each prediction."
   ]
  },
  {
   "cell_type": "code",
   "execution_count": 44,
   "metadata": {
    "collapsed": false
   },
   "outputs": [
    {
     "data": {
      "text/plain": [
       "[('id', 9.0192888476123592e-06),\n",
       " ('yearpublished', 0.00015335576742238485),\n",
       " ('minplayers', -0.035298766408350647),\n",
       " ('maxplayers', -0.00019231344270052809),\n",
       " ('playingtime', 2.3014291689648537e-05),\n",
       " ('minplaytime', 4.9486588466388005e-05),\n",
       " ('maxplaytime', 2.3014291689924358e-05),\n",
       " ('minage', 0.022198889074271918),\n",
       " ('users_rated', -0.00047054869712382876),\n",
       " ('total_owners', 0.00023779233532808931),\n",
       " ('total_traders', -0.0018195437768683293),\n",
       " ('total_wanters', 0.0053902136335611866),\n",
       " ('total_wishers', -0.0012419045558468619),\n",
       " ('total_comments', 0.0010903194376860284),\n",
       " ('total_weights', 0.00053706382000638262),\n",
       " ('average_weight', 0.40382528485858415)]"
      ]
     },
     "execution_count": 44,
     "metadata": {},
     "output_type": "execute_result"
    }
   ],
   "source": [
    "from sklearn.linear_model import LinearRegression\n",
    "\n",
    "reg_model = LinearRegression()\n",
    "reg_model.fit(train[predictors], train[target])\n",
    "\n",
    "# print the coefficients corresponding to each  feature\n",
    "list(zip(predictors, reg_model.coef_))"
   ]
  },
  {
   "cell_type": "code",
   "execution_count": 38,
   "metadata": {
    "collapsed": false
   },
   "outputs": [
    {
     "name": "stdout",
     "output_type": "stream",
     "text": [
      "1.3505288558\n"
     ]
    }
   ],
   "source": [
    "# Import the scikit-learn function to compute error\n",
    "from sklearn.metrics import mean_squared_error\n",
    "\n",
    "# Generate our predictions for the test set\n",
    "predictions = reg_model.predict(test[predictors])\n",
    "\n",
    "# Compute error between our test predictions and the actual values\n",
    "MSE = mean_squared_error(predictions, test[target])\n",
    "\n",
    "#square root the MSE\n",
    "RMSE = np.sqrt(MSE)\n",
    "print(RMSE)"
   ]
  },
  {
   "cell_type": "markdown",
   "metadata": {},
   "source": [
    "The error rate is close to the standard deviation of all board game ratings. This indicates that our model may not have high predictive power. As can be seen from some of the coefficients above, clearly some of the features don't possess a strong (if at all) linear relationship with the response variable and this is why a linear regression model can be limiited; it can only make good predictions if there is a linear relationship between the features and the response, which is why more complex methods (with higher variance and lower bias) will often outperform linear regression.\n",
    "\n",
    "Further areas that could be explored could be applying decision trees or neural networks in order to find nonlinearities that may exist in the data. Feature extraction could also be applied, for example, generating new, more relevant features from the pre-existing columns (PCA can also be used here to help with this)."
   ]
  }
 ],
 "metadata": {
  "kernelspec": {
   "display_name": "Python 3",
   "language": "python",
   "name": "python3"
  },
  "language_info": {
   "codemirror_mode": {
    "name": "ipython",
    "version": 3
   },
   "file_extension": ".py",
   "mimetype": "text/x-python",
   "name": "python",
   "nbconvert_exporter": "python",
   "pygments_lexer": "ipython3",
   "version": "3.5.1"
  }
 },
 "nbformat": 4,
 "nbformat_minor": 0
}
